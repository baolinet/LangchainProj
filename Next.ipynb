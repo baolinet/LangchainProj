{
 "cells": [
  {
   "cell_type": "code",
   "execution_count": 1,
   "id": "fc05df15",
   "metadata": {},
   "outputs": [],
   "source": [
    "import requests\n",
    "import base64"
   ]
  },
  {
   "cell_type": "code",
   "execution_count": 2,
   "id": "36d397c7",
   "metadata": {},
   "outputs": [],
   "source": [
    "# 1. 本地完整路径 → Base64\n",
    "img_path = \"/Users/baolinet/Pictures/ocr-test/火车票2.jpg\"\n",
    "with open(img_path, \"rb\") as f:\n",
    "    img_b64 = base64.b64encode(f.read()).decode()"
   ]
  },
  {
   "cell_type": "code",
   "execution_count": 3,
   "id": "eec484a1",
   "metadata": {},
   "outputs": [],
   "source": [
    "# 2. 构造请求体\n",
    "url = \"http://localhost:11434/api/generate\"\n",
    "payload = {\n",
    "    \"model\": \"gemma3:12b\",\n",
    "    \"prompt\": \"请用中文详细描述这张图片的内容，并指出图中文字。\",\n",
    "    \"images\": [img_b64],\n",
    "    \"stream\": False\n",
    "}"
   ]
  },
  {
   "cell_type": "code",
   "execution_count": 4,
   "id": "2feb8e31",
   "metadata": {},
   "outputs": [
    {
     "name": "stdout",
     "output_type": "stream",
     "text": [
      "好的，我来详细描述一下这张图片的内容，并指出其中的文字：\n",
      "\n",
      "**整体描述：**\n",
      "\n",
      "这张图片是一张火车票的扫描件。票面颜色为淡绿色，上面印有各种信息，包括车次、出发地、目的地、日期、时间、座位等级等。\n",
      "\n",
      "**具体文字信息：**\n",
      "\n",
      "*   **车票信息：**\n",
      "    *   **车票号码：** 3709211990\\*\\*\\*\\*1828\n",
      "    *   **乘车人姓名：** 李**\n",
      "    *   **发车时间：** 13:02\n",
      "    *   **到达时间：** （未显示完整）\n",
      "    *   **票价：** 24.0元\n",
      "    *   **车次：** D7162\n",
      "    *   **座位等级：** 一等座\n",
      "    *   **发车日期：** 2018年09月04日\n",
      "*   **车站信息：**\n",
      "    *   **出发站：** 临高南 (Lingao Nan)\n",
      "    *   **到达站：** 海口东 (Haikou Dong)\n",
      "*   **其他信息：**\n",
      "    *   **备注：** 限乘当日火车\n",
      "    *   **二维码：** 票面右下角有一个二维码\n",
      "    *   **其他代码：** 51664300030905Q041902\n",
      "\n",
      "**其他说明：**\n",
      "\n",
      "*   票面上有“中国铁路总公司”的标识。\n",
      "*   部分信息（如乘车人姓名）被遮挡，用星号代替。\n",
      "*   图片下方有水印，显示了网站地址和版本信息。\n",
      "\n",
      "希望这个描述对您有帮助！\n"
     ]
    }
   ],
   "source": [
    "# 3. 发送请求\n",
    "resp = requests.post(url, json=payload, timeout=120)\n",
    "resp.raise_for_status()\n",
    "print(resp.json()[\"response\"])"
   ]
  }
 ],
 "metadata": {
  "kernelspec": {
   "display_name": "py312",
   "language": "python",
   "name": "python3"
  },
  "language_info": {
   "codemirror_mode": {
    "name": "ipython",
    "version": 3
   },
   "file_extension": ".py",
   "mimetype": "text/x-python",
   "name": "python",
   "nbconvert_exporter": "python",
   "pygments_lexer": "ipython3",
   "version": "3.12.9"
  }
 },
 "nbformat": 4,
 "nbformat_minor": 5
}
