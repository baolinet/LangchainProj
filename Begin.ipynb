{
 "cells": [
  {
   "cell_type": "code",
   "execution_count": 21,
   "id": "fcaddd37",
   "metadata": {},
   "outputs": [],
   "source": [
    "import requests"
   ]
  },
  {
   "cell_type": "code",
   "execution_count": 22,
   "id": "381028c1",
   "metadata": {},
   "outputs": [],
   "source": [
    "url = \"http://localhost:11434/api/generate\"\n",
    "payload = {\n",
    "    \"model\": \"gemma3:12b\",  # 使用正确的模型名称\n",
    "    \"prompt\": \"你是谁？\",\n",
    "    \"stream\": False\n",
    "}\n"
   ]
  },
  {
   "cell_type": "code",
   "execution_count": 23,
   "id": "4cff3d11",
   "metadata": {},
   "outputs": [
    {
     "name": "stdout",
     "output_type": "stream",
     "text": [
      "请求失败: HTTPConnectionPool(host='localhost', port=11434): Read timed out. (read timeout=30)\n"
     ]
    }
   ],
   "source": [
    "try:\n",
    "    response = requests.post(url, json=payload, timeout=30)\n",
    "    response.raise_for_status()\n",
    "    print(response.json()[\"response\"])\n",
    "except requests.exceptions.RequestException as e:\n",
    "    print(f\"请求失败: {str(e)}\")\n",
    "except KeyError:\n",
    "    print(\"响应格式异常\")"
   ]
  },
  {
   "cell_type": "code",
   "execution_count": null,
   "id": "35a1acce",
   "metadata": {},
   "outputs": [],
   "source": []
  }
 ],
 "metadata": {
  "kernelspec": {
   "display_name": "py312",
   "language": "python",
   "name": "python3"
  },
  "language_info": {
   "codemirror_mode": {
    "name": "ipython",
    "version": 3
   },
   "file_extension": ".py",
   "mimetype": "text/x-python",
   "name": "python",
   "nbconvert_exporter": "python",
   "pygments_lexer": "ipython3",
   "version": "3.12.9"
  }
 },
 "nbformat": 4,
 "nbformat_minor": 5
}
